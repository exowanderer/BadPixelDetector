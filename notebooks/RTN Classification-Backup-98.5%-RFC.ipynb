{
 "cells": [
  {
   "cell_type": "code",
   "execution_count": null,
   "metadata": {
    "collapsed": false,
    "jupyter": {
     "outputs_hidden": false
    }
   },
   "outputs": [],
   "source": [
    "%matplotlib inline\n",
    "import numpy as np\n",
    "from pylab import *\n",
    "from astropy.io import fits\n",
    "from statsmodels.robust import scale\n",
    "from sklearn import preprocessing as pp\n",
    "\n",
    "from seaborn import *\n",
    "\n",
    "style.use('fivethirtyeight')\n",
    "from IPython import display\n",
    "rcParams['axes.grid'] = False\n",
    "rcParams['lines.linewidth'] = 1.0"
   ]
  },
  {
   "cell_type": "code",
   "execution_count": null,
   "metadata": {},
   "outputs": [],
   "source": [
    "from ipywidgets import widgets\n",
    "# from IPython.display import display\n",
    "from IPython         import display"
   ]
  },
  {
   "cell_type": "code",
   "execution_count": null,
   "metadata": {},
   "outputs": [],
   "source": [
    "mask0   = fits.open('NRCNRCALONG-DARK-53421914341_1_485_SE_2015-12-08T21h45m34_mask.fits')\n",
    "darks0  = fits.open('NRCNRCALONG-DARK-53421914341_1_485_SE_2015-12-08T21h45m34.fits')"
   ]
  },
  {
   "cell_type": "code",
   "execution_count": null,
   "metadata": {
    "collapsed": false,
    "jupyter": {
     "outputs_hidden": false
    }
   },
   "outputs": [],
   "source": [
    "nQuirks = sum(mask0[0].data[0] != 0)\n",
    "nQuirks"
   ]
  },
  {
   "cell_type": "code",
   "execution_count": null,
   "metadata": {},
   "outputs": [],
   "source": [
    "mask    = mask0[0].data[0]\n",
    "darks   = darks0[0].data"
   ]
  },
  {
   "cell_type": "code",
   "execution_count": null,
   "metadata": {
    "collapsed": false,
    "jupyter": {
     "outputs_hidden": false
    }
   },
   "outputs": [],
   "source": [
    "darks"
   ]
  },
  {
   "cell_type": "code",
   "execution_count": null,
   "metadata": {
    "collapsed": false,
    "jupyter": {
     "outputs_hidden": false
    }
   },
   "outputs": [],
   "source": [
    "quirks_store  = np.loadtxt('quirks_FINAL_for_cnaw_mask_CV3_dark_frames.txt')\n",
    "classes_store = np.loadtxt('myclasses_new_FINAL_for_cnaw_mask_CV3_dark_frames.txt').astype(int)"
   ]
  },
  {
   "cell_type": "markdown",
   "metadata": {},
   "source": [
    "Check If All Class 1 Bad Pixels Are Indeed Just Noisy Pixels\n",
    "---"
   ]
  },
  {
   "cell_type": "code",
   "execution_count": null,
   "metadata": {
    "collapsed": false,
    "jupyter": {
     "outputs_hidden": false
    }
   },
   "outputs": [],
   "source": [
    "quirks_store[classes_store == 1].shape"
   ]
  },
  {
   "cell_type": "code",
   "execution_count": null,
   "metadata": {
    "collapsed": false,
    "jupyter": {
     "outputs_hidden": false
    }
   },
   "outputs": [],
   "source": [
    "fig = figure()#figsize=(6,6))\n",
    "ax  = fig.add_subplot(111)\n",
    "# ax.plot([nan,nan])\n",
    "corrections = []\n",
    "for cnow in np.where(classes_store == 1)[0]:\n",
    "    # ax.lines.pop()\n",
    "    ax.clear()\n",
    "    ax.plot(quirks_store[cnow] - median(quirks_store[cnow]))\n",
    "    ax.set_title('Entry:' + str(cnow) + '/ Class:' + str(classes_store[cnow]))\n",
    "    fig.canvas.draw()\n",
    "    display.display(plt.gcf())\n",
    "    display.clear_output(wait=True)\n",
    "#     checkClass = input('Is this a Noisy Pixel? ');\n",
    "#     if checkClass != '':\n",
    "#         corrections.append([cnow, checkClass])\n",
    "# for cnow in np.where(classes_store == 1)[0]:\n",
    "#     plt.plot(quirks_store[cnow])\n",
    "#     display.clear_output(wait=True)\n",
    "#     display.display(plt.gcf())\n",
    "#     checkClass = input('Is this a Noisy Pixel? ');print(checkClass)\n",
    "#     plt.clf()\n",
    "#     display.clear_output(wait=True)"
   ]
  },
  {
   "cell_type": "markdown",
   "metadata": {},
   "source": [
    "Check If All Class 4 Bad Pixels Are Indeed Just CR Pixels\n",
    "---"
   ]
  },
  {
   "cell_type": "code",
   "execution_count": null,
   "metadata": {
    "collapsed": false,
    "jupyter": {
     "outputs_hidden": false
    }
   },
   "outputs": [],
   "source": [
    "quirks_store[classes_store == 4].shape"
   ]
  },
  {
   "cell_type": "code",
   "execution_count": null,
   "metadata": {
    "collapsed": false,
    "jupyter": {
     "outputs_hidden": false
    }
   },
   "outputs": [],
   "source": [
    "fig = figure()#figsize=(6,6))\n",
    "ax  = fig.add_subplot(111)\n",
    "\n",
    "CRs = np.where(classes_store == 4)[0]\n",
    "corrections = []\n",
    "for cnow in :\n",
    "    # ax.lines.pop()\n",
    "    ax  = fig.add_subplot(111)\n",
    "    ax.plot((quirks_store[cnow] - min(quirks_store[cnow])) / (max(quirks_store[cnow]) - min(quirks_store[cnow])), lw=2)\n",
    "    ax.set_title('Entry:' + str(cnow) + '/ Class:' + str(classes_store[cnow]))\n",
    "    ax.annotate(str(cnow), [110, 0.5], fontsize=50)\n",
    "    fig.canvas.draw()\n",
    "    display.display(plt.gcf())\n",
    "    time.sleep(.05)\n",
    "    display.clear_output(wait=True)\n",
    "    ax.lines.pop()\n",
    "    ax.texts.pop()\n",
    "    if cnow > 500 and cnow < 1000:\n",
    "        display.display(plt.clf())\n",
    "        ax = fig.add_subplot(111)\n",
    "#     checkClass = input('Is this a Cosmic Ray? ');\n",
    "#     if checkClass != '':\n",
    "#         corrections.append([cnow, checkClass])\n",
    "# for cnow in np.where(classes_store == 1)[0]:\n",
    "#     plt.plot(quirks_store[cnow])\n",
    "#     display.clear_output(wait=True)\n",
    "#     display.display(plt.gcf())\n",
    "#     checkClass = input('Is this a Noisy Pixel? ');print(checkClass)\n",
    "#     plt.clf()\n",
    "#     display.clear_output(wait=True)"
   ]
  },
  {
   "cell_type": "code",
   "execution_count": null,
   "metadata": {
    "collapsed": false,
    "jupyter": {
     "outputs_hidden": false
    }
   },
   "outputs": [],
   "source": [
    "corrections"
   ]
  },
  {
   "cell_type": "code",
   "execution_count": null,
   "metadata": {
    "collapsed": false,
    "jupyter": {
     "outputs_hidden": false
    }
   },
   "outputs": [],
   "source": [
    "np.where(classes_store == 4)[0][69]"
   ]
  },
  {
   "cell_type": "raw",
   "metadata": {},
   "source": [
    "classes_store[[140,260, 380]] = 2"
   ]
  },
  {
   "cell_type": "code",
   "execution_count": null,
   "metadata": {
    "collapsed": false,
    "jupyter": {
     "outputs_hidden": false
    }
   },
   "outputs": [],
   "source": [
    "plot(quirks_store[140])\n",
    "plot(quirks_store[260])\n",
    "plot(quirks_store[380])"
   ]
  },
  {
   "cell_type": "code",
   "execution_count": null,
   "metadata": {
    "collapsed": false,
    "jupyter": {
     "outputs_hidden": false
    }
   },
   "outputs": [],
   "source": [
    "((quirks_store.T - np.min(quirks_store,axis=1)) / (np.max(quirks_store,axis=1) - np.min(quirks_store, axis=1))).shape"
   ]
  },
  {
   "cell_type": "code",
   "execution_count": null,
   "metadata": {
    "collapsed": false,
    "jupyter": {
     "outputs_hidden": false
    }
   },
   "outputs": [],
   "source": [
    "((quirks_store.T - np.min(quirks_store,axis=1)) / (np.max(quirks_store,axis=1) - np.min(quirks_store, axis=1))).T[classes_store == 4].T.shape"
   ]
  },
  {
   "cell_type": "code",
   "execution_count": null,
   "metadata": {
    "collapsed": false,
    "jupyter": {
     "outputs_hidden": false
    }
   },
   "outputs": [],
   "source": [
    "np.sum(classes_store == 2) // 100"
   ]
  },
  {
   "cell_type": "code",
   "execution_count": null,
   "metadata": {},
   "outputs": [],
   "source": [
    "quirk_store_norm = ((quirks_store.T - np.min(quirks_store,axis=1)) / (np.max(quirks_store,axis=1) - np.min(quirks_store, axis=1))).T"
   ]
  },
  {
   "cell_type": "code",
   "execution_count": null,
   "metadata": {
    "collapsed": false,
    "jupyter": {
     "outputs_hidden": false
    }
   },
   "outputs": [],
   "source": [
    "classNow  = 4\n",
    "k = 1\n",
    "stepsize  = 100\n",
    "quirksNow = quirk_store_norm[classes_store == classNow][k*stepsize:(k+1)*stepsize].T\n",
    "quirksNow.shape"
   ]
  },
  {
   "cell_type": "code",
   "execution_count": null,
   "metadata": {},
   "outputs": [],
   "source": [
    "classes_store_bak = np.copy(classes_store)"
   ]
  },
  {
   "cell_type": "code",
   "execution_count": null,
   "metadata": {
    "collapsed": false,
    "jupyter": {
     "outputs_hidden": false
    }
   },
   "outputs": [],
   "source": [
    "classNow  = 5\n",
    "stepsize  = 50\n",
    "fig = figure(figsize=(16,30))\n",
    "for k in range( np.sum(classes_store == classNow) // stepsize):\n",
    "    quirksNow = quirk_store_norm[classes_store == classNow][k*stepsize:(k+1)*stepsize]\n",
    "#     upper     = np.where(quirksNow[:,-1] > 0.5)[0]\n",
    "    lower     = np.where(quirksNow[:,-1] < 0.5)[0]\n",
    "    classes_store[classes_store == classNow][lower] = np.ones(len(classes_store[classes_store == classNow][lower]))*6\n",
    "#     ax = fig.add_subplot(np.int(np.ceil(np.sum(classes_store == classNow) // stepsize / 2)), 2, k+1)\n",
    "#     plot(quirksNow[lower].T);"
   ]
  },
  {
   "cell_type": "code",
   "execution_count": null,
   "metadata": {
    "collapsed": false,
    "jupyter": {
     "outputs_hidden": false
    }
   },
   "outputs": [],
   "source": [
    "fig = figure(figsize=(16,8))\n",
    "ax1  = fig.add_subplot(121)\n",
    "ax2  = fig.add_subplot(122)\n",
    "ax1.plot(quirk_store_norm[classes_store == 5].T, lw=1);\n",
    "ax2.plot(quirk_store_norm[classes_store == 6].T, lw=1);"
   ]
  },
  {
   "cell_type": "raw",
   "metadata": {},
   "source": [
    "classes_store_new = np.copy(classes_store)\n",
    "classes_store_new[(classes_store == 5)*(quirk_store_norm[:,-1] < 0.5)]  = 6\n",
    "# classes_store_new[(classes_store == 5)*(quirk_store_norm[:,-1] >= 0.5)] = classes_store[(classes_store == 5)*(quirk_store_norm[:,-1] >= 0.5)]\n",
    "classes_store_new[classes_store_new == 6]\n",
    "np.savetxt('myclasses_new_FINAL_for_cnaw_mask_CV3_dark_frames.txt', classes_store_new.astype(int), fmt='%d')"
   ]
  },
  {
   "cell_type": "code",
   "execution_count": null,
   "metadata": {
    "collapsed": false,
    "jupyter": {
     "outputs_hidden": false
    }
   },
   "outputs": [],
   "source": [
    "darks.shape"
   ]
  },
  {
   "cell_type": "code",
   "execution_count": null,
   "metadata": {
    "collapsed": false,
    "jupyter": {
     "outputs_hidden": false
    }
   },
   "outputs": [],
   "source": [
    "darks_trnspsd = np.transpose(darks, axes=(1,2,0))\n",
    "for irow in range(len(quirks_store)):\n",
    "    quirk_pp  = pp.scale(quirks_store[irow])\n",
    "    # print(std(quirk_pp), scale.mad(quirk_pp))\n",
    "    plot(quirk_pp, alpha=0.5)# - median(darks_trnspsd[icol,irow])))\n",
    "# darks_scaled  = pp.scale(darks,axis=0)"
   ]
  },
  {
   "cell_type": "code",
   "execution_count": null,
   "metadata": {
    "collapsed": false,
    "jupyter": {
     "outputs_hidden": false
    }
   },
   "outputs": [],
   "source": [
    "darks.shape, darks_trnspsd.shape"
   ]
  },
  {
   "cell_type": "code",
   "execution_count": null,
   "metadata": {
    "collapsed": false,
    "jupyter": {
     "outputs_hidden": false
    }
   },
   "outputs": [],
   "source": [
    "darks_reshaped = darks_trnspsd.reshape(darks_trnspsd.shape[0]*darks_trnspsd.shape[1], darks_trnspsd.shape[2])"
   ]
  },
  {
   "cell_type": "code",
   "execution_count": null,
   "metadata": {
    "collapsed": false,
    "jupyter": {
     "outputs_hidden": false
    }
   },
   "outputs": [],
   "source": [
    "darks_reshaped.shape"
   ]
  },
  {
   "cell_type": "code",
   "execution_count": null,
   "metadata": {
    "collapsed": false,
    "jupyter": {
     "outputs_hidden": false
    }
   },
   "outputs": [],
   "source": [
    "icol,irow = np.random.randint(0,2048,2)\n",
    "pp.scale(darks_trnspsd[icol,irow] / median(darks_trnspsd[icol,irow]))"
   ]
  },
  {
   "cell_type": "code",
   "execution_count": null,
   "metadata": {},
   "outputs": [],
   "source": [
    "darks_norm  = darks / median(darks, axis=0)"
   ]
  },
  {
   "cell_type": "code",
   "execution_count": null,
   "metadata": {
    "collapsed": false,
    "jupyter": {
     "outputs_hidden": false
    }
   },
   "outputs": [],
   "source": [
    "darks_std   = std(darks_norm, axis=0)\n",
    "darks_std.shape"
   ]
  },
  {
   "cell_type": "code",
   "execution_count": null,
   "metadata": {
    "collapsed": false,
    "jupyter": {
     "outputs_hidden": false
    }
   },
   "outputs": [],
   "source": [
    "darks_med_std = median(darks_std)"
   ]
  },
  {
   "cell_type": "code",
   "execution_count": null,
   "metadata": {
    "collapsed": false,
    "jupyter": {
     "outputs_hidden": false
    }
   },
   "outputs": [],
   "source": [
    "darks_flat = []\n",
    "for irow in range(darks_reshaped.shape[0]):\n",
    "    limit_check = std(darks_reshaped[irow] / median(darks_reshaped[irow])-1) < 2*darks_med_std\n",
    "    # print(limit_check, std(darks_reshaped[irow] / median(darks_reshaped[irow])), darks_med_std)\n",
    "    if limit_check:\n",
    "        darks_flat.append(darks_reshaped[irow])\n",
    "\n",
    "nNormals    = len(darks_flat)\n",
    "nNormals"
   ]
  },
  {
   "cell_type": "code",
   "execution_count": null,
   "metadata": {
    "collapsed": false,
    "jupyter": {
     "outputs_hidden": false
    }
   },
   "outputs": [],
   "source": [
    "darks_flat = np.array(darks_flat)\n",
    "darks_flat.shape"
   ]
  },
  {
   "cell_type": "raw",
   "metadata": {},
   "source": [
    "darks_flat  = darks_trnspsd[darks_std < 2*darks_med_std]\n",
    "nNormals    = len(darks_flat)\n",
    "nNormals"
   ]
  },
  {
   "cell_type": "code",
   "execution_count": null,
   "metadata": {
    "collapsed": false,
    "jupyter": {
     "outputs_hidden": false
    }
   },
   "outputs": [],
   "source": [
    "darks_norm_trnspsd = np.transpose(darks_norm, axes=(1,2,0))\n",
    "darks_norm_flat    = darks_norm_trnspsd[darks_std < 2*darks_med_std]"
   ]
  },
  {
   "cell_type": "code",
   "execution_count": null,
   "metadata": {
    "collapsed": false,
    "jupyter": {
     "outputs_hidden": false
    }
   },
   "outputs": [],
   "source": [
    "darks_norm_flat.shape"
   ]
  },
  {
   "cell_type": "code",
   "execution_count": null,
   "metadata": {
    "collapsed": false,
    "jupyter": {
     "outputs_hidden": false
    }
   },
   "outputs": [],
   "source": [
    "darks_norm_flat.shape[0]"
   ]
  },
  {
   "cell_type": "markdown",
   "metadata": {},
   "source": [
    "Simulate RTNs because the CV3 training data has None\n",
    "---"
   ]
  },
  {
   "cell_type": "code",
   "execution_count": null,
   "metadata": {
    "collapsed": false,
    "jupyter": {
     "outputs_hidden": false
    },
    "scrolled": true
   },
   "outputs": [],
   "source": [
    "np.random.seed(42)\n",
    "saturation= 2**16\n",
    "dynRange  = 2**9\n",
    "nSamps    = 1000\n",
    "nFrames   = darks_norm_flat.shape[1]\n",
    "rtn_syn   = np.zeros((nSamps, nFrames))\n",
    "\n",
    "maxRTNs   = np.int(0.9*nFrames)\n",
    "maxWidth  = 50\n",
    "minWidth  = 10\n",
    "rtnCnt    = 0\n",
    "\n",
    "dark_inds = np.arange(darks_reshaped.shape[0])\n",
    "frame_inds= np.arange(darks_reshaped.shape[1])\n",
    "for irow in np.random.choice(dark_inds,nSamps,replace=False):\n",
    "    rtn_syn[rtnCnt] = np.copy(darks_reshaped[irow])\n",
    "    if darks_reshaped[irow].std() > 50:\n",
    "        print(darks_reshaped[irow].std())\n",
    "    nRTNs     = np.random.randint(maxRTNs)\n",
    "    \n",
    "    coinflip  = np.random.randint(0, 2)\n",
    "    sign_rand = np.random.choice([-1,1])\n",
    "    minJump   = 4*std(rtn_syn[rtnCnt] - median(rtn_syn[rtnCnt]))\n",
    "    jump      = np.random.normal(minJump,dynRange)\n",
    "    if coinflip:\n",
    "        RTN_locs  = np.random.choice(frame_inds, nRTNs, replace=False)\n",
    "        for iRTN in RTN_locs:\n",
    "            rtn_syn[rtnCnt][iRTN] += sign_rand*jump\n",
    "    else:\n",
    "        randWidth = np.random.randint(minWidth, maxWidth + 1)\n",
    "        randStart = np.random.randint(minWidth, nFrames - randWidth - minWidth + 1)\n",
    "        rtn_syn[rtnCnt][randStart:randStart+randWidth] += sign_rand*jump\n",
    "    \n",
    "    rtn_syn[rtnCnt][rtn_syn[rtnCnt] > saturation] = saturation\n",
    "    # if not rtnCnt % 100:\n",
    "    plot(rtn_syn[rtnCnt] - median(rtn_syn[rtnCnt]))\n",
    "    \n",
    "    rtnCnt  = rtnCnt + 1\n",
    "\n",
    "xlim(-1,110);\n",
    "# ylim(-100,100);"
   ]
  },
  {
   "cell_type": "code",
   "execution_count": null,
   "metadata": {
    "collapsed": false,
    "jupyter": {
     "outputs_hidden": false
    }
   },
   "outputs": [],
   "source": [
    "np.random.seed(42)\n",
    "nFlatDarks        = 5000\n",
    "df_inds           = np.arange(darks_flat.shape[0])\n",
    "df_sample         = np.random.choice(df_inds, nFlatDarks, replace=False)\n",
    "darks_flat_sample = np.copy(darks_flat[df_sample])"
   ]
  },
  {
   "cell_type": "code",
   "execution_count": null,
   "metadata": {
    "collapsed": false,
    "jupyter": {
     "outputs_hidden": false
    }
   },
   "outputs": [],
   "source": [
    "plot(darks_flat_sample.T - median(darks_flat_sample,axis=1));"
   ]
  },
  {
   "cell_type": "code",
   "execution_count": null,
   "metadata": {
    "collapsed": false,
    "jupyter": {
     "outputs_hidden": false
    }
   },
   "outputs": [],
   "source": [
    "darks_flat_sample.shape"
   ]
  },
  {
   "cell_type": "code",
   "execution_count": null,
   "metadata": {
    "collapsed": false,
    "jupyter": {
     "outputs_hidden": false
    }
   },
   "outputs": [],
   "source": [
    "for k in range(darks_flat_sample.shape[0]):\n",
    "    if (darks_flat_sample[k] - median(darks_flat_sample[k]) > 200).any():\n",
    "        print(k)"
   ]
  },
  {
   "cell_type": "code",
   "execution_count": null,
   "metadata": {
    "collapsed": false,
    "jupyter": {
     "outputs_hidden": false
    }
   },
   "outputs": [],
   "source": [
    "std(abs(darks_flat_sample[850] / median(darks_flat_sample[850]))-1), 2*darks_med_std"
   ]
  },
  {
   "cell_type": "raw",
   "metadata": {},
   "source": [
    "darks_flat_sample0 = darks_flat_sample.copy()\n",
    "darks_flat_sample = vstack([darks_flat_sample0[:850], darks_flat_sample0[851:]])#.shape"
   ]
  },
  {
   "cell_type": "code",
   "execution_count": null,
   "metadata": {
    "collapsed": false,
    "jupyter": {
     "outputs_hidden": false
    }
   },
   "outputs": [],
   "source": [
    "plot(darks_flat_sample.T - median(darks_flat_sample,axis=1));"
   ]
  },
  {
   "cell_type": "code",
   "execution_count": null,
   "metadata": {
    "collapsed": false,
    "jupyter": {
     "outputs_hidden": false
    }
   },
   "outputs": [],
   "source": [
    "darks_classes     = np.zeros(darks_flat_sample.shape[0],dtype=int)\n",
    "rtn_classes       = np.ones(rtn_syn.shape[0],dtype=int)*3\n",
    "samples_train_set = vstack([quirks_store, rtn_syn, darks_flat_sample])\n",
    "classes_train_set = vstack([classes_store[:,None], rtn_classes[:,None], darks_classes[:,None]])[:,0]"
   ]
  },
  {
   "cell_type": "code",
   "execution_count": null,
   "metadata": {
    "collapsed": false,
    "jupyter": {
     "outputs_hidden": false
    }
   },
   "outputs": [],
   "source": [
    "samples_train_set.shape"
   ]
  },
  {
   "cell_type": "code",
   "execution_count": null,
   "metadata": {
    "collapsed": false,
    "jupyter": {
     "outputs_hidden": false
    }
   },
   "outputs": [],
   "source": [
    "sts_inds   = np.arange(samples_train_set.shape[0])\n",
    "unsort_sts = np.random.choice(sts_inds, sts_inds.size, replace=False)"
   ]
  },
  {
   "cell_type": "code",
   "execution_count": null,
   "metadata": {
    "collapsed": false,
    "jupyter": {
     "outputs_hidden": false
    }
   },
   "outputs": [],
   "source": [
    "samples_train_set_resort = np.copy(samples_train_set[unsort_sts])\n",
    "classes_train_resort = np.copy(classes_train_set[unsort_sts])"
   ]
  },
  {
   "cell_type": "markdown",
   "metadata": {},
   "source": [
    "Random Forest Classification\n",
    "---"
   ]
  },
  {
   "cell_type": "markdown",
   "metadata": {},
   "source": [
    "Rescaled all samples from 0 to 1"
   ]
  },
  {
   "cell_type": "code",
   "execution_count": null,
   "metadata": {
    "collapsed": false,
    "jupyter": {
     "outputs_hidden": false
    }
   },
   "outputs": [],
   "source": [
    "samples_train_set_resort_scaled = (       samples_train_set_resort.T  - np.min(samples_train_set_resort,axis=1)) / \\\n",
    "                                  (np.max(samples_train_set_resort,axis=1) - np.min(samples_train_set_resort,axis=1))"
   ]
  },
  {
   "cell_type": "code",
   "execution_count": null,
   "metadata": {
    "collapsed": false,
    "jupyter": {
     "outputs_hidden": false
    }
   },
   "outputs": [],
   "source": [
    "samples_train_set_resort_scaled.shape"
   ]
  },
  {
   "cell_type": "code",
   "execution_count": null,
   "metadata": {
    "collapsed": false,
    "jupyter": {
     "outputs_hidden": false
    },
    "scrolled": true
   },
   "outputs": [],
   "source": [
    "plot(samples_train_set_resort_scaled - median(samples_train_set_resort_scaled,axis=0));"
   ]
  },
  {
   "cell_type": "markdown",
   "metadata": {},
   "source": [
    "Load Sci-kit Learn Libraries"
   ]
  },
  {
   "cell_type": "code",
   "execution_count": null,
   "metadata": {},
   "outputs": [],
   "source": [
    "from sklearn.ensemble         import RandomForestClassifier\n",
    "from sklearn.utils            import shuffle\n",
    "from sklearn.cross_validation import train_test_split\n",
    "from sklearn.externals        import joblib"
   ]
  },
  {
   "cell_type": "markdown",
   "metadata": {},
   "source": [
    "Establish Random Forest Classification\n",
    "- 1000 trees\n",
    "- OOB Score\n",
    "- Multiprocessing"
   ]
  },
  {
   "cell_type": "code",
   "execution_count": null,
   "metadata": {},
   "outputs": [],
   "source": [
    "rfc = RandomForestClassifier(n_estimators=1000, oob_score=True, n_jobs=-1, random_state=42, verbose=True)"
   ]
  },
  {
   "cell_type": "code",
   "execution_count": null,
   "metadata": {},
   "outputs": [],
   "source": [
    "rfc2 = RandomForestClassifier(n_estimators=1000, oob_score=True, n_jobs=-1, random_state=42, verbose=True)"
   ]
  },
  {
   "cell_type": "markdown",
   "metadata": {},
   "source": [
    "Split Samples into 75% Train and 25% Test"
   ]
  },
  {
   "cell_type": "code",
   "execution_count": null,
   "metadata": {
    "collapsed": false,
    "jupyter": {
     "outputs_hidden": false
    }
   },
   "outputs": [],
   "source": [
    "X_train, X_test, Y_train, Y_test = train_test_split(samples_train_set_resort_scaled.T, classes_train_resort, test_size = 0.25, random_state=42)"
   ]
  },
  {
   "cell_type": "code",
   "execution_count": null,
   "metadata": {
    "collapsed": false,
    "jupyter": {
     "outputs_hidden": false
    }
   },
   "outputs": [],
   "source": [
    "X_train.shape, X_test.shape, Y_train.shape, Y_test.shape"
   ]
  },
  {
   "cell_type": "markdown",
   "metadata": {},
   "source": [
    "Shuffle Training Data Set"
   ]
  },
  {
   "cell_type": "code",
   "execution_count": null,
   "metadata": {},
   "outputs": [],
   "source": [
    "X_train, Y_train = shuffle(X_train, Y_train, random_state=42)"
   ]
  },
  {
   "cell_type": "markdown",
   "metadata": {},
   "source": [
    "Train Classifier with `rfc.fit`"
   ]
  },
  {
   "cell_type": "code",
   "execution_count": null,
   "metadata": {
    "collapsed": false,
    "jupyter": {
     "outputs_hidden": false
    }
   },
   "outputs": [],
   "source": [
    "rfc.fit(X_train, Y_train)"
   ]
  },
  {
   "cell_type": "code",
   "execution_count": null,
   "metadata": {
    "collapsed": false,
    "jupyter": {
     "outputs_hidden": false
    }
   },
   "outputs": [],
   "source": [
    "rfc2.fit(samples_train_set_resort_scaled.T, classes_train_resort)"
   ]
  },
  {
   "cell_type": "markdown",
   "metadata": {},
   "source": [
    "Score Classifier with Test Data Score"
   ]
  },
  {
   "cell_type": "code",
   "execution_count": null,
   "metadata": {
    "collapsed": false,
    "jupyter": {
     "outputs_hidden": false
    }
   },
   "outputs": [],
   "source": [
    "rfc.score(X_test, Y_test), rfc.score(samples_train_set_resort_scaled.T, classes_train_resort)"
   ]
  },
  {
   "cell_type": "markdown",
   "metadata": {},
   "source": [
    "Score Classifier with Out-of-Bag Error"
   ]
  },
  {
   "cell_type": "code",
   "execution_count": null,
   "metadata": {
    "collapsed": false,
    "jupyter": {
     "outputs_hidden": false
    }
   },
   "outputs": [],
   "source": [
    "rfc.oob_score_, rfc2.oob_score_"
   ]
  },
  {
   "cell_type": "markdown",
   "metadata": {},
   "source": [
    "Save Random Forest Classifier becuse 98% is AWESOME!"
   ]
  },
  {
   "cell_type": "code",
   "execution_count": null,
   "metadata": {
    "collapsed": false,
    "jupyter": {
     "outputs_hidden": false
    }
   },
   "outputs": [],
   "source": [
    "joblib.dump(rfc, 'trained_RF_Classifier/random_forest_classifier_trained_on_resorted_samples_train_set_RTN_CR_HP_Other_Norm.save')\n",
    "joblib.dump(dict(samples=samples_train_set_resort_scaled.T, classes=classes_train_resort), 'trained_RF_Classifier/RTN_CR_HP_Other_Norm_resorted_samples_train_set.save')"
   ]
  },
  {
   "cell_type": "code",
   "execution_count": null,
   "metadata": {
    "collapsed": false,
    "jupyter": {
     "outputs_hidden": false
    }
   },
   "outputs": [],
   "source": [
    "joblib.dump(rfc2, 'trained_RF_Classifier/random_forest_classifier_trained_full_set_on_resorted_samples_train_set_RTN_CR_HP_Other_Norm.save')"
   ]
  },
  {
   "cell_type": "code",
   "execution_count": null,
   "metadata": {
    "collapsed": false,
    "jupyter": {
     "outputs_hidden": false
    }
   },
   "outputs": [],
   "source": [
    "darks_reshaped.shape"
   ]
  },
  {
   "cell_type": "code",
   "execution_count": null,
   "metadata": {
    "collapsed": false,
    "jupyter": {
     "outputs_hidden": false
    }
   },
   "outputs": [],
   "source": [
    "rfc_pred.size"
   ]
  },
  {
   "cell_type": "code",
   "execution_count": null,
   "metadata": {
    "collapsed": false,
    "jupyter": {
     "outputs_hidden": false
    }
   },
   "outputs": [],
   "source": [
    "arange(99*rfc_pred.size//skipsize,min((99+1)*rfc_pred.size//skipsize, rfc_pred.size))"
   ]
  },
  {
   "cell_type": "code",
   "execution_count": null,
   "metadata": {
    "collapsed": false,
    "jupyter": {
     "outputs_hidden": false
    }
   },
   "outputs": [],
   "source": [
    "darks_reshaped.shape"
   ]
  },
  {
   "cell_type": "code",
   "execution_count": null,
   "metadata": {
    "collapsed": false,
    "jupyter": {
     "outputs_hidden": false
    }
   },
   "outputs": [],
   "source": [
    "darks_reshaped_k_scaled = ((darks_reshaped[chunkNow].T - np.min(darks_reshaped[chunkNow],axis=1)) / \\\n",
    "                              ((np.max(darks_reshaped[chunkNow],axis=1) - np.min(darks_reshaped[chunkNow],axis=1)))).T"
   ]
  },
  {
   "cell_type": "code",
   "execution_count": null,
   "metadata": {
    "collapsed": false,
    "jupyter": {
     "outputs_hidden": false
    }
   },
   "outputs": [],
   "source": [
    "X_train.shape, darks_reshaped_k_scaled.shape"
   ]
  },
  {
   "cell_type": "code",
   "execution_count": null,
   "metadata": {
    "collapsed": false,
    "jupyter": {
     "outputs_hidden": false
    }
   },
   "outputs": [],
   "source": [
    "plot(darks_reshaped_k_scaled[:,::10]);"
   ]
  },
  {
   "cell_type": "code",
   "execution_count": null,
   "metadata": {
    "collapsed": false,
    "jupyter": {
     "outputs_hidden": false
    }
   },
   "outputs": [],
   "source": [
    "X_train.shape"
   ]
  },
  {
   "cell_type": "code",
   "execution_count": null,
   "metadata": {
    "collapsed": false,
    "jupyter": {
     "outputs_hidden": false
    },
    "scrolled": true
   },
   "outputs": [],
   "source": [
    "rfc_pred = np.zeros(darks_reshaped.shape[0])\n",
    "rfc2_pred= np.zeros(darks_reshaped.shape[0])\n",
    "step     = 1\n",
    "skipsize = 100\n",
    "for step in range(skipsize):\n",
    "    chunkNow = arange(step*rfc_pred.size//skipsize,min((step+1)*rfc_pred.size//skipsize, rfc_pred.size))\n",
    "    print(chunkNow.min(), chunkNow.max())\n",
    "    #\n",
    "    darks_reshaped_k_scaled = ((darks_reshaped[chunkNow].T - np.min(darks_reshaped[chunkNow],axis=1)) / \\\n",
    "                              ((np.max(darks_reshaped[chunkNow],axis=1) - np.min(darks_reshaped[chunkNow],axis=1)))).T\n",
    "    rfc2_pred[chunkNow]     = rfc2.predict(darks_reshaped_k_scaled)\n",
    "    rfc_pred[chunkNow]      = rfc.predict(darks_reshaped_k_scaled)\n",
    "\n",
    "# rfc_pred[k] = rfc.predict(darks_reshaped_k_scaled)\n",
    "# del darks_reshaped_k_scaled"
   ]
  },
  {
   "cell_type": "code",
   "execution_count": null,
   "metadata": {
    "collapsed": false,
    "jupyter": {
     "outputs_hidden": false
    }
   },
   "outputs": [],
   "source": [
    "rfc_pred[:-10], rfc2_pred[:-10]"
   ]
  },
  {
   "cell_type": "code",
   "execution_count": null,
   "metadata": {
    "collapsed": false,
    "jupyter": {
     "outputs_hidden": false
    }
   },
   "outputs": [],
   "source": [
    "for k in range(6):\n",
    "    print(k,sum(rfc_pred == k), sum(rfc2_pred == k))"
   ]
  },
  {
   "cell_type": "code",
   "execution_count": null,
   "metadata": {
    "collapsed": false,
    "jupyter": {
     "outputs_hidden": false
    }
   },
   "outputs": [],
   "source": [
    "fig = figure()#figsize=(6,6))\n",
    "ax  = fig.add_subplot(111)\n",
    "# ax.plot([nan,nan])\n",
    "corrections = []\n",
    "for irow in np.where(rfc2_pred == 3)[0]:\n",
    "    # ax.lines.pop()\n",
    "    ax.clear()\n",
    "    ax.plot(darks_reshaped[irow]);\n",
    "    ax.set_title('Row:' + str(irow))\n",
    "    fig.canvas.draw()\n",
    "    display.display(plt.gcf())\n",
    "    display.clear_output(wait=True)"
   ]
  },
  {
   "cell_type": "code",
   "execution_count": null,
   "metadata": {
    "collapsed": false,
    "jupyter": {
     "outputs_hidden": false
    }
   },
   "outputs": [],
   "source": [
    "rfc_pred_train = rfc.predict(samples_train_set_resort_scaled.T)"
   ]
  },
  {
   "cell_type": "code",
   "execution_count": null,
   "metadata": {
    "collapsed": false,
    "jupyter": {
     "outputs_hidden": false
    }
   },
   "outputs": [],
   "source": [
    "1-np.abs(rfc_pred_train - classes_train_resort).sum() / classes_train_resort.size"
   ]
  },
  {
   "cell_type": "code",
   "execution_count": null,
   "metadata": {},
   "outputs": [],
   "source": [
    "rfc.predict(samples_train_set_resort_scaled.T)"
   ]
  }
 ],
 "metadata": {
  "anaconda-cloud": {},
  "kernelspec": {
   "display_name": "Python 3",
   "language": "python",
   "name": "python3"
  },
  "language_info": {
   "codemirror_mode": {
    "name": "ipython",
    "version": 3
   },
   "file_extension": ".py",
   "mimetype": "text/x-python",
   "name": "python",
   "nbconvert_exporter": "python",
   "pygments_lexer": "ipython3",
   "version": "3.7.7"
  }
 },
 "nbformat": 4,
 "nbformat_minor": 4
}
