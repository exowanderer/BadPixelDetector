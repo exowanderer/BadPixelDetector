{
 "cells": [
  {
   "cell_type": "code",
   "execution_count": null,
   "metadata": {},
   "outputs": [],
   "source": [
    "%matplotlib inline\n",
    "import numpy as np\n",
    "from pylab import *\n",
    "from astropy.io import fits\n",
    "from statsmodels.robust import scale\n",
    "from sklearn import preprocessing as pp\n",
    "\n",
    "# import time\n",
    "from IPython import display\n"
   ]
  },
  {
   "cell_type": "code",
   "execution_count": null,
   "metadata": {},
   "outputs": [],
   "source": [
    "from ipywidgets import widgets\n",
    "from IPython.display import display"
   ]
  },
  {
   "cell_type": "code",
   "execution_count": null,
   "metadata": {},
   "outputs": [],
   "source": [
    "mask0   = fits.open('NRCNRCALONG-DARK-53421914341_1_485_SE_2015-12-08T21h45m34_mask.fits')\n",
    "darks0  = fits.open('NRCNRCALONG-DARK-53421914341_1_485_SE_2015-12-08T21h45m34.fits')"
   ]
  },
  {
   "cell_type": "code",
   "execution_count": null,
   "metadata": {
    "collapsed": false,
    "jupyter": {
     "outputs_hidden": false
    }
   },
   "outputs": [],
   "source": [
    "quirks_store  = np.loadtxt('quirks_FINAL_for_cnaw_mask_CV3_dark_frames.txt')\n",
    "classes_store = np.loadtxt('myclasses_new_FINAL_for_cnaw_mask_CV3_dark_frames.txt').astype(int)"
   ]
  },
  {
   "cell_type": "markdown",
   "metadata": {},
   "source": [
    "Check If All Class 1 Bad Pixels Are Indeed Just Noisy Pixels\n",
    "---"
   ]
  },
  {
   "cell_type": "code",
   "execution_count": null,
   "metadata": {
    "collapsed": false,
    "jupyter": {
     "outputs_hidden": false
    }
   },
   "outputs": [],
   "source": [
    "quirks_store[classes_store == 1].shape"
   ]
  },
  {
   "cell_type": "code",
   "execution_count": null,
   "metadata": {
    "collapsed": false,
    "jupyter": {
     "outputs_hidden": false
    }
   },
   "outputs": [],
   "source": [
    "fig = figure()#figsize=(6,6))\n",
    "ax  = fig.add_subplot(111)\n",
    "# ax.plot([nan,nan])\n",
    "corrections = []\n",
    "for cnow in np.where(classes_store == 1)[0]:\n",
    "    # ax.lines.pop()\n",
    "    ax.clear()\n",
    "    ax.plot(quirks_store[cnow] - median(quirks_store[cnow]))\n",
    "    ax.set_title('Entry:' + str(cnow) + '/ Class:' + str(classes_store[cnow]))\n",
    "    fig.canvas.draw()\n",
    "    display.display(plt.gcf())\n",
    "    display.clear_output(wait=True)\n",
    "    checkClass = input('Is this a Noisy Pixel? ');\n",
    "    if checkClass != '':\n",
    "        corrections.append([cnow, checkClass])\n",
    "# for cnow in np.where(classes_store == 1)[0]:\n",
    "#     plt.plot(quirks_store[cnow])\n",
    "#     display.clear_output(wait=True)\n",
    "#     display.display(plt.gcf())\n",
    "#     checkClass = input('Is this a Noisy Pixel? ');print(checkClass)\n",
    "#     plt.clf()\n",
    "#     display.clear_output(wait=True)"
   ]
  },
  {
   "cell_type": "markdown",
   "metadata": {},
   "source": [
    "Check If All Class 4 Bad Pixels Are Indeed Just CR Pixels\n",
    "---"
   ]
  },
  {
   "cell_type": "code",
   "execution_count": null,
   "metadata": {
    "collapsed": false,
    "jupyter": {
     "outputs_hidden": false
    }
   },
   "outputs": [],
   "source": [
    "quirks_store[classes_store == 4].shape"
   ]
  },
  {
   "cell_type": "code",
   "execution_count": null,
   "metadata": {
    "collapsed": false,
    "jupyter": {
     "outputs_hidden": false
    }
   },
   "outputs": [],
   "source": [
    "fig = figure()#figsize=(6,6))\n",
    "ax  = fig.add_subplot(111)\n",
    "\n",
    "CRs = np.where(classes_store == 4)[0]\n",
    "corrections = []\n",
    "for cnow in :\n",
    "    # ax.lines.pop()\n",
    "    ax  = fig.add_subplot(111)\n",
    "    ax.plot((quirks_store[cnow] - min(quirks_store[cnow])) / (max(quirks_store[cnow]) - min(quirks_store[cnow])), lw=2)\n",
    "    ax.set_title('Entry:' + str(cnow) + '/ Class:' + str(classes_store[cnow]))\n",
    "    ax.annotate(str(cnow), [110, 0.5], fontsize=50)\n",
    "    fig.canvas.draw()\n",
    "    display.display(plt.gcf())\n",
    "    time.sleep(.05)\n",
    "    display.clear_output(wait=True)\n",
    "    ax.lines.pop()\n",
    "    ax.texts.pop()\n",
    "    if cnow > 500 and cnow < 1000:\n",
    "        display.display(plt.clf())\n",
    "        ax = fig.add_subplot(111)\n",
    "#     checkClass = input('Is this a Cosmic Ray? ');\n",
    "#     if checkClass != '':\n",
    "#         corrections.append([cnow, checkClass])\n",
    "# for cnow in np.where(classes_store == 1)[0]:\n",
    "#     plt.plot(quirks_store[cnow])\n",
    "#     display.clear_output(wait=True)\n",
    "#     display.display(plt.gcf())\n",
    "#     checkClass = input('Is this a Noisy Pixel? ');print(checkClass)\n",
    "#     plt.clf()\n",
    "#     display.clear_output(wait=True)"
   ]
  },
  {
   "cell_type": "code",
   "execution_count": null,
   "metadata": {
    "collapsed": false,
    "jupyter": {
     "outputs_hidden": false
    }
   },
   "outputs": [],
   "source": [
    "corrections"
   ]
  },
  {
   "cell_type": "code",
   "execution_count": null,
   "metadata": {
    "collapsed": false,
    "jupyter": {
     "outputs_hidden": false
    }
   },
   "outputs": [],
   "source": [
    "np.where(classes_store == 4)[0][69]"
   ]
  },
  {
   "cell_type": "code",
   "execution_count": null,
   "metadata": {
    "collapsed": false,
    "jupyter": {
     "outputs_hidden": false
    }
   },
   "outputs": [],
   "source": [
    "classes_store[[140,260, 380]] = 2"
   ]
  },
  {
   "cell_type": "code",
   "execution_count": null,
   "metadata": {
    "collapsed": false,
    "jupyter": {
     "outputs_hidden": false
    }
   },
   "outputs": [],
   "source": [
    "plot(quirks_store[140])\n",
    "plot(quirks_store[260])\n",
    "plot(quirks_store[380])"
   ]
  },
  {
   "cell_type": "code",
   "execution_count": null,
   "metadata": {
    "collapsed": false,
    "jupyter": {
     "outputs_hidden": false
    }
   },
   "outputs": [],
   "source": [
    "((quirks_store.T - np.min(quirks_store,axis=1)) / (np.max(quirks_store,axis=1) - np.min(quirks_store, axis=1))).shape"
   ]
  },
  {
   "cell_type": "code",
   "execution_count": null,
   "metadata": {
    "collapsed": false,
    "jupyter": {
     "outputs_hidden": false
    }
   },
   "outputs": [],
   "source": [
    "((quirks_store.T - np.min(quirks_store,axis=1)) / (np.max(quirks_store,axis=1) - np.min(quirks_store, axis=1))).T[classes_store == 4].T.shape"
   ]
  },
  {
   "cell_type": "code",
   "execution_count": null,
   "metadata": {
    "collapsed": false,
    "jupyter": {
     "outputs_hidden": false
    }
   },
   "outputs": [],
   "source": [
    "np.sum(classes_store == 2) // 100"
   ]
  },
  {
   "cell_type": "code",
   "execution_count": null,
   "metadata": {},
   "outputs": [],
   "source": [
    "quirk_store_norm = ((quirks_store.T - np.min(quirks_store,axis=1)) / (np.max(quirks_store,axis=1) - np.min(quirks_store, axis=1))).T"
   ]
  },
  {
   "cell_type": "code",
   "execution_count": null,
   "metadata": {
    "collapsed": false,
    "jupyter": {
     "outputs_hidden": false
    }
   },
   "outputs": [],
   "source": [
    "quirksNow = quirk_store_norm[classes_store == classNow][k*stepsize:(k+1)*stepsize].T\n",
    "quirksNow.shape"
   ]
  },
  {
   "cell_type": "code",
   "execution_count": null,
   "metadata": {},
   "outputs": [],
   "source": [
    "classes_store_bak = np.copy(classes_store)"
   ]
  },
  {
   "cell_type": "code",
   "execution_count": null,
   "metadata": {
    "collapsed": false,
    "jupyter": {
     "outputs_hidden": false
    }
   },
   "outputs": [],
   "source": [
    "classNow  = 5\n",
    "stepsize  = 50\n",
    "fig = figure(figsize=(16,30))\n",
    "for k in range( np.sum(classes_store == classNow) // stepsize):\n",
    "    quirksNow = quirk_store_norm[classes_store == classNow][k*stepsize:(k+1)*stepsize]\n",
    "#     upper     = np.where(quirksNow[:,-1] > 0.5)[0]\n",
    "    lower     = np.where(quirksNow[:,-1] < 0.5)[0]\n",
    "    classes_store[classes_store == classNow][lower] = np.ones(len(classes_store[classes_store == classNow][lower]))*6\n",
    "#     ax = fig.add_subplot(np.int(np.ceil(np.sum(classes_store == classNow) // stepsize / 2)), 2, k+1)\n",
    "#     plot(quirksNow[lower].T);"
   ]
  },
  {
   "cell_type": "code",
   "execution_count": null,
   "metadata": {
    "collapsed": false,
    "jupyter": {
     "outputs_hidden": false
    }
   },
   "outputs": [],
   "source": [
    "plot(quirk_store_norm[classes_store == 6].T);"
   ]
  },
  {
   "cell_type": "raw",
   "metadata": {},
   "source": [
    "classes_store_new = np.copy(classes_store)\n",
    "classes_store_new[(classes_store == 5)*(quirk_store_norm[:,-1] < 0.5)]  = 6\n",
    "# classes_store_new[(classes_store == 5)*(quirk_store_norm[:,-1] >= 0.5)] = classes_store[(classes_store == 5)*(quirk_store_norm[:,-1] >= 0.5)]\n",
    "classes_store_new[classes_store_new == 6]\n",
    "np.savetxt('myclasses_new_FINAL_for_cnaw_mask_CV3_dark_frames.txt', classes_store_new.astype(int), fmt='%d')"
   ]
  },
  {
   "cell_type": "code",
   "execution_count": null,
   "metadata": {
    "collapsed": false,
    "jupyter": {
     "outputs_hidden": false
    }
   },
   "outputs": [],
   "source": [
    "plot(quirk_store_norm[classes_store_new == 6].T);"
   ]
  },
  {
   "cell_type": "code",
   "execution_count": null,
   "metadata": {
    "collapsed": false,
    "jupyter": {
     "outputs_hidden": false
    }
   },
   "outputs": [],
   "source": [
    "mask  = mask0[0].data[0]\n",
    "darks = darks0[0].data\n",
    "\n",
    "nQuirks     = sum(mask != 0)\n",
    "nFrames     = darks.shape[0]\n",
    "nCols,nRows = darks.shape[1:]"
   ]
  },
  {
   "cell_type": "code",
   "execution_count": null,
   "metadata": {
    "collapsed": false,
    "jupyter": {
     "outputs_hidden": false
    }
   },
   "outputs": [],
   "source": [
    "med_darkImage = np.median(darks,axis=0)"
   ]
  },
  {
   "cell_type": "code",
   "execution_count": null,
   "metadata": {
    "collapsed": false,
    "jupyter": {
     "outputs_hidden": false
    }
   },
   "outputs": [],
   "source": [
    "darks.shape, med_darkImage.shape"
   ]
  },
  {
   "cell_type": "code",
   "execution_count": null,
   "metadata": {},
   "outputs": [],
   "source": [
    "darks_reshape = darks.reshape()\n",
    "pp."
   ]
  },
  {
   "cell_type": "code",
   "execution_count": null,
   "metadata": {
    "collapsed": false,
    "jupyter": {
     "outputs_hidden": false
    }
   },
   "outputs": [],
   "source": [
    "std_med_darkImage = np.std(darks - med_darkImage,axis=0)\n",
    "mad_med_darkImage = scale.mad(darks - med_darkImage,axis=0)"
   ]
  },
  {
   "cell_type": "code",
   "execution_count": null,
   "metadata": {
    "collapsed": false,
    "jupyter": {
     "outputs_hidden": false
    }
   },
   "outputs": [],
   "source": [
    "# fig = figure(figsize=(16,16))\n",
    "queries = transpose(darks,axes=(1,2,0))[mad_med_darkImage > 1.25*mean(mad_med_darkImage)]"
   ]
  },
  {
   "cell_type": "code",
   "execution_count": null,
   "metadata": {
    "collapsed": false,
    "jupyter": {
     "outputs_hidden": false
    }
   },
   "outputs": [],
   "source": [
    "fig = figure(figsize=(12,12))\n",
    "ax  = fig.add_subplot(111)\n",
    "ax.plot(queries.T - median(queries[:,:10],axis=1));\n",
    "ax.set_xlim(0,108);\n",
    "# ax.set_ylim(0,2**16);"
   ]
  },
  {
   "cell_type": "code",
   "execution_count": null,
   "metadata": {
    "collapsed": false,
    "jupyter": {
     "outputs_hidden": false
    }
   },
   "outputs": [],
   "source": [
    "quirks = np.zeros((nQuirks, nFrames))\n",
    "norms  = np.zeros((nCols*nRows - nQuirks, nFrames))\n",
    "qCnt   = 0\n",
    "nCnt   = 0\n",
    "\n",
    "for icol in range(darks.shape[1]):\n",
    "    for irow in range(darks.shape[2]):\n",
    "        if mask[icol,irow] != 0:\n",
    "            # quirky.append(darks[:,icol,irow])\n",
    "            quirks[qCnt]  = darks[:,icol,irow]\n",
    "            qCnt          = qCnt + 1\n",
    "            assert(qCnt <= nQuirks)\n",
    "        else:\n",
    "            norms[nCnt]   = darks[:,icol,irow]\n",
    "            # normy.append(darks[:,icol,irow])\n",
    "            nCnt          = nCnt + 1"
   ]
  },
  {
   "cell_type": "code",
   "execution_count": null,
   "metadata": {
    "collapsed": false,
    "jupyter": {
     "outputs_hidden": false
    }
   },
   "outputs": [],
   "source": [
    "norms.shape"
   ]
  },
  {
   "cell_type": "code",
   "execution_count": null,
   "metadata": {
    "collapsed": false,
    "jupyter": {
     "outputs_hidden": false
    }
   },
   "outputs": [],
   "source": [
    "np.median(norms[randUse],axis=1).shape"
   ]
  },
  {
   "cell_type": "code",
   "execution_count": null,
   "metadata": {
    "collapsed": false,
    "jupyter": {
     "outputs_hidden": false
    }
   },
   "outputs": [],
   "source": [
    "np.median(norms[randUse],axis=1).shape"
   ]
  },
  {
   "cell_type": "code",
   "execution_count": null,
   "metadata": {
    "collapsed": false,
    "jupyter": {
     "outputs_hidden": false
    }
   },
   "outputs": [],
   "source": [
    "nDisplay = 100000\n",
    "randUse  = np.random.randint(0,nCols*nRows - nQuirks,nDisplay)\n",
    "plot((norms[randUse].T - np.median(norms[randUse],axis=1)));\n",
    "xlim(-1,110);"
   ]
  }
 ],
 "metadata": {
  "anaconda-cloud": {},
  "kernelspec": {
   "display_name": "Python 3",
   "language": "python",
   "name": "python3"
  },
  "language_info": {
   "codemirror_mode": {
    "name": "ipython",
    "version": 3
   },
   "file_extension": ".py",
   "mimetype": "text/x-python",
   "name": "python",
   "nbconvert_exporter": "python",
   "pygments_lexer": "ipython3",
   "version": "3.7.7"
  }
 },
 "nbformat": 4,
 "nbformat_minor": 4
}
